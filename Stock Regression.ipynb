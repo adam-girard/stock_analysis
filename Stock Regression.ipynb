{
 "cells": [
  {
   "cell_type": "code",
   "execution_count": 120,
   "metadata": {},
   "outputs": [],
   "source": [
    "import config_\n",
    "import pandas as pd\n",
    "import requests as req\n",
    "import numpy as np\n",
    "%matplotlib inline\n",
    "import matplotlib.pyplot as plt\n",
    "import matplotlib.mlab as mlab\n",
    "from sklearn import linear_model\n",
    "from sklearn.model_selection import train_test_split\n",
    "import scipy\n",
    "from scipy.stats import pearsonr\n",
    "from pandas.plotting import register_matplotlib_converters"
   ]
  },
  {
   "cell_type": "code",
   "execution_count": 135,
   "metadata": {},
   "outputs": [],
   "source": [
    "# requests stock data from alpha vantage api endpoint\n",
    "def pull_stock_data(symbol, function=None, outputsize=None, datatype=None): \n",
    "    \n",
    "    endpoint = 'https://www.alphavantage.co/query'\n",
    "    \n",
    "    if function is None:\n",
    "        function = 'TIME_SERIES_DAILY'\n",
    "    if symbol is None:\n",
    "        return(\"enter symbol\")\n",
    "    if outputsize is None:\n",
    "        outputsize = 'compact'\n",
    "    if datatype is None:\n",
    "        datatype ='json'\n",
    "       \n",
    "    parameters = {\n",
    "        \"function\": function,\n",
    "        \"symbol\": symbol,\n",
    "        \"outputsize\": outputsize,\n",
    "        \"datatype\": datatype,\n",
    "        \"apikey\": config_.apikey,\n",
    "        }\n",
    "\n",
    "    r = req.get(url=endpoint, params=parameters)\n",
    "    json_dict = r.json()\n",
    "\n",
    "    return json_dict\n",
    "\n",
    "# constructs a pandas data frame from json dictionary\n",
    "def construct_df(json):\n",
    "\n",
    "    data = json[\"Time Series (Daily)\"]\n",
    "    \n",
    "    dates = [major_key for major_key, sub_dict in data.items()]\n",
    "    opens = [sub_dict[\"1. open\"] for major_key, sub_dict in data.items()]\n",
    "    highs = [sub_dict[\"2. high\"] for major_key, sub_dict in data.items()]\n",
    "    lows = [sub_dict[\"3. low\"] for major_key, sub_dict in data.items()]\n",
    "    closes = [sub_dict[\"4. close\"] for major_key, sub_dict in data.items()]\n",
    "    volumes = [sub_dict[\"5. volume\"] for major_key, sub_dict in data.items()]\n",
    "\n",
    "    df = pd.DataFrame({\"date\": dates, \"open\": opens, \"high\": highs, \"low\": lows, \"close\": closes, \"volume\": volumes})\n",
    "    \n",
    "    df[\"date\"]= pd.to_datetime(df['date'])\n",
    "    df[\"open\"] = df[\"open\"].astype(float)\n",
    "    df[\"high\"] = df[\"high\"].astype(float)\n",
    "    df[\"low\"] = df[\"low\"].astype(float)\n",
    "    df[\"close\"] = df[\"close\"].astype(float)\n",
    "    df[\"volume\"] = df[\"volume\"].astype(int)\n",
    "\n",
    "    return df\n",
    "\n",
    "# returns a list of important meta data values \n",
    "def meta_data(json):\n",
    "\n",
    "    symbol = json['Meta Data']['2. Symbol']\n",
    "    last_refresh = json['Meta Data']['3. Last Refreshed']\n",
    "    time_zone = json['Meta Data']['5. Time Zone']\n",
    "\n",
    "    meta_list = [symbol, last_refresh, time_zone]\n",
    "\n",
    "    return meta_list\n",
    "\n",
    "# returns a list of daily returns as percentages from 'close' column of dataframe or json dict\n",
    "def daily_returns(data):\n",
    "    \n",
    "    if isinstance(data, pd.DataFrame):\n",
    "        return [(((x-y)/x)*100) for x, y in zip(df['close'], df['close'][1:])]\n",
    "    \n",
    "    if isinstance(data, dict):\n",
    "        data = data[\"Time Series (Daily)\"]\n",
    "        closes = [sub_dict[\"4. close\"] for major_key, sub_dict in data.items()]\n",
    "        closes = list(map(float, closes))\n",
    "        return [(((x-y)/x)*100) for x, y in zip(closes, closes[1:])]\n",
    "        \n",
    "    return(\"enter json or dataframe\")\n",
    "\n",
    "# returns a dictionary of regression statistics \n",
    "def s_regression(y, x=daily_returns(sp_json), plot=False):\n",
    "    \n",
    "    # create numpy arrays\n",
    "    x = np.array(x)\n",
    "    y = np.array(y)\n",
    "    y_hist = y\n",
    "    \n",
    "    if min(x.size, y.size) < 2000:\n",
    "        min_length = min(x.size, y.size)\n",
    "    else:\n",
    "        min_length = 1095\n",
    "    \n",
    "    x= x[:min_length]\n",
    "    y= y[:min_length]  \n",
    "    \n",
    "    # transpose x\n",
    "    x_T = x.reshape(-1, 1)\n",
    "    \n",
    "    # numpy correlation \n",
    "    corr = np.corrcoef(x, y)\n",
    "    \n",
    "    # adds constant for intercept\n",
    "    x_matrix = np.vstack([x, np.ones(len(x))]).T\n",
    "    \n",
    "    # solves for regression coefficients by computing the inverse of [x_matrix^T dot x_matrix] dot y as column vector\n",
    "    coefs = (np.linalg.inv(x_matrix.T.dot(x_matrix)).dot(x_matrix.T)).dot(y)\n",
    "    \n",
    "    stats = {'sample size': x.size, 'correlation': corr[0][1], 'r-squared': corr[0][1]**2, 'coeficient': coefs[0], 'intercept': coefs[1]}\n",
    "    \n",
    "    # plot if true\n",
    "    if plot: \n",
    "        x_plot = np.linspace(min(x_T),max(x_T),x.size)\n",
    "        y_plot = coefs[1] + coefs[0]*x_plot\n",
    "        fig = plt.figure(figsize=(20,10))\n",
    "        ax1 = fig.add_subplot(221)\n",
    "        ax1.scatter(x, y)\n",
    "        ax1.plot(x_plot, y_plot, '-r')\n",
    "        plt.title(\"Regression Analysis w/ OLS\")\n",
    "\n",
    "        # table\n",
    "        ax2 = fig.add_subplot(323)\n",
    "        font_size=12\n",
    "        bbox=[0, 0, 1, 1]\n",
    "        ax2.axis('off')\n",
    "        text = []\n",
    "        for x, y in stats.items():\n",
    "            l = []\n",
    "            l.append(x)\n",
    "            l.append(str(round(y, 3)))\n",
    "            text.append(l)\n",
    "        table = ax2.table(text)\n",
    "        table.auto_set_font_size(False)\n",
    "        table.set_fontsize(font_size)\n",
    "        table.scale(1, 2)\n",
    "        \n",
    "        \n",
    "    if not plot: \n",
    "        return stats\n",
    "\n",
    "# returns histogram of stock returns\n",
    "def histogram(returns):\n",
    "    x = np.array(returns)\n",
    "\n",
    "    num_bins = 100\n",
    "    fig = plt.figure(figsize=(14,10))\n",
    "    plt.title(\"Histogram of Returns\")\n",
    "    n, bins, patches = plt.hist(x, num_bins, facecolor='blue', alpha=0.5)\n"
   ]
  },
  {
   "cell_type": "code",
   "execution_count": 98,
   "metadata": {},
   "outputs": [],
   "source": [
    "sp = daily_returns(pull_stock_data('sp', outputsize='full'))"
   ]
  },
  {
   "cell_type": "code",
   "execution_count": 100,
   "metadata": {},
   "outputs": [],
   "source": [
    "stock = daily_returns(pull_stock_data('aapl', outputsize='full'))"
   ]
  },
  {
   "cell_type": "code",
   "execution_count": 132,
   "metadata": {},
   "outputs": [
    {
     "data": {
      "image/png": "[encoded data removed]",
      "text/plain": [
       "<Figure size 1440x720 with 2 Axes>"
      ]
     },
     "metadata": {
      "needs_background": "light"
     },
     "output_type": "display_data"
    }
   ],
   "source": [
    "s_regression(dis,sp, plot=True)"
   ]
  },
  {
   "cell_type": "code",
   "execution_count": 134,
   "metadata": {},
   "outputs": [],
   "source": [
    "dis = daily_returns(pull_stock_data('dis', outputsize='full'))"
   ]
  },
  {
   "cell_type": "code",
   "execution_count": 133,
   "metadata": {},
   "outputs": [
    {
     "data": {
      "image/png": "[encoded data removed]",
      "text/plain": [
       "<Figure size 1008x720 with 1 Axes>"
      ]
     },
     "metadata": {
      "needs_background": "light"
     },
     "output_type": "display_data"
    }
   ],
   "source": [
    "histogram(dis)"
   ]
  },
  {
   "cell_type": "code",
   "execution_count": null,
   "metadata": {},
   "outputs": [],
   "source": []
  },
  {
   "cell_type": "code",
   "execution_count": null,
   "metadata": {},
   "outputs": [],
   "source": []
  }
 ],
 "metadata": {
  "kernelspec": {
   "display_name": "Python [conda env:data_env] *",
   "language": "python",
   "name": "conda-env-data_env-py"
  },
  "language_info": {
   "codemirror_mode": {
    "name": "ipython",
    "version": 3
   },
   "file_extension": ".py",
   "mimetype": "text/x-python",
   "name": "python",
   "nbconvert_exporter": "python",
   "pygments_lexer": "ipython3",
   "version": "3.7.4"
  }
 },
 "nbformat": 4,
 "nbformat_minor": 2
}
